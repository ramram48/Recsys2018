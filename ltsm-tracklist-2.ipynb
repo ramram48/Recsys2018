{
 "cells": [
  {
   "cell_type": "code",
   "execution_count": null,
   "metadata": {
    "collapsed": false
   },
   "outputs": [],
   "source": [
    "from keras.utils.data_utils import get_file\n",
    "import numpy as np\n",
    "import random\n",
    "import sys\n",
    "import io\n",
    "from sklearn import preprocessing\n",
    "import pandas as pd\n",
    "# Read the data\n",
    "\n",
    "data=pd.read_csv('pid_uri_id.csv')"
   ]
  },
  {
   "cell_type": "code",
   "execution_count": null,
   "metadata": {
    "collapsed": true
   },
   "outputs": [],
   "source": [
    "trackinfo=data[['trackid','track_uri']]"
   ]
  },
  {
   "cell_type": "code",
   "execution_count": null,
   "metadata": {
    "collapsed": true
   },
   "outputs": [],
   "source": [
    "trackinfo=trackinfo.drop_duplicates()"
   ]
  },
  {
   "cell_type": "code",
   "execution_count": null,
   "metadata": {
    "collapsed": false
   },
   "outputs": [],
   "source": [
    "import os\n",
    "text=list(data['trackid'])\n",
    "print('corpus length',len(text))\n",
    "#print(text)\n",
    "transition_counts = dict()\n",
    "for i in range(0,len(text)-1):\n",
    "    currc = text[i]\n",
    "    nextc = text[i+1]\n",
    "    if currc not in transition_counts:\n",
    "        transition_counts[currc] = dict()\n",
    "    if nextc not in transition_counts[currc]:\n",
    "        transition_counts[currc][nextc] = 0\n",
    "    transition_counts[currc][nextc] += 1\n",
    "\n",
    "#print(\"Number of transitions from 'a' to 'b': \" + str(transition_counts['a']['b']))\n",
    "\n",
    "transition_probabilities = dict()\n",
    "for currentc, next_counts in transition_counts.items():\n",
    "    values = []\n",
    "    probabilities = []\n",
    "    sumall = 0\n",
    "    for nextc, count in next_counts.items():\n",
    "        values.append(nextc)\n",
    "        probabilities.append(count)\n",
    "        sumall += count\n",
    "    for i in range(0, len(probabilities)):\n",
    "        probabilities[i] /= float(sumall)\n",
    "    transition_probabilities[currentc] = (values, probabilities)\n",
    "#for a in transition_probabilities[4586]:\n",
    " #   print(a)\n",
    "\n",
    "# sample\n"
   ]
  },
  {
   "cell_type": "code",
   "execution_count": null,
   "metadata": {
    "collapsed": true
   },
   "outputs": [],
   "source": [
    "chall=pd.read_csv('chall_data_pid_trackid.csv')"
   ]
  },
  {
   "cell_type": "code",
   "execution_count": null,
   "metadata": {
    "collapsed": true
   },
   "outputs": [],
   "source": [
    "df2=pd.DataFrame({'count' : chall.groupby( [\"pid\"] ).size()}).reset_index()"
   ]
  },
  {
   "cell_type": "code",
   "execution_count": null,
   "metadata": {
    "collapsed": true
   },
   "outputs": [],
   "source": [
    "sparse_pid_list=chall['pid'][chall.pid.isin(df2.pid)]"
   ]
  },
  {
   "cell_type": "code",
   "execution_count": null,
   "metadata": {
    "collapsed": true
   },
   "outputs": [],
   "source": [
    "sparse1=df2[df2['count']==5]"
   ]
  },
  {
   "cell_type": "code",
   "execution_count": null,
   "metadata": {
    "collapsed": true
   },
   "outputs": [],
   "source": [
    "already_written=pd.read_csv('track_5_new_base_on_last_track.csv')"
   ]
  },
  {
   "cell_type": "code",
   "execution_count": null,
   "metadata": {
    "collapsed": true
   },
   "outputs": [],
   "source": [
    "sparse5=sparse1[~sparse1.pid.isin(already_written.pid)]"
   ]
  },
  {
   "cell_type": "code",
   "execution_count": null,
   "metadata": {
    "collapsed": false
   },
   "outputs": [],
   "source": [
    "sparse5.nunique()"
   ]
  },
  {
   "cell_type": "code",
   "execution_count": null,
   "metadata": {
    "collapsed": false
   },
   "outputs": [],
   "source": [
    "sparse5.pid.nunique()"
   ]
  },
  {
   "cell_type": "code",
   "execution_count": null,
   "metadata": {
    "collapsed": false
   },
   "outputs": [],
   "source": [
    "chall[chall.pid==1007130 ].trackid.iloc[4]"
   ]
  },
  {
   "cell_type": "code",
   "execution_count": null,
   "metadata": {
    "collapsed": false
   },
   "outputs": [],
   "source": [
    "challsparse"
   ]
  },
  {
   "cell_type": "code",
   "execution_count": null,
   "metadata": {
    "collapsed": true
   },
   "outputs": [],
   "source": [
    "challsparse=chall[chall.pid.isin(sparse1.pid)]"
   ]
  },
  {
   "cell_type": "code",
   "execution_count": null,
   "metadata": {
    "collapsed": false
   },
   "outputs": [],
   "source": [
    "pid=0\n",
    "for index,row in challsparse.iterrows():\n",
    "    if int(row['pid'])!=pid:\n",
    "        pid=int(row['pid'])\n",
    "        trackid=chall[chall.pid==pid].trackid.iloc[4]\n",
    "       # pid=chall[chall.pid==pid].pid.iloc[4]\n",
    "        values,probabilities=transition_probabilities[int(trackid)]\n",
    "        indices=np.argsort(probabilities)\n",
    "        indices=indices[::-1][:10]\n",
    "        len(indices)\n",
    "        a=[]\n",
    "        for indice in indices:\n",
    "            a.append(values[indice])\n",
    "        b=trackinfo[trackinfo.trackid.isin(a)]\n",
    "        b['pid']=pid\n",
    "        b=b[['pid','trackid']]\n",
    "        appendDFToCSV_void(b,'track_5_new_base_on_last_track.csv',',')\n",
    "        print(pid,trackid)\n",
    "   "
   ]
  },
  {
   "cell_type": "code",
   "execution_count": null,
   "metadata": {
    "collapsed": true
   },
   "outputs": [],
   "source": [
    "a"
   ]
  },
  {
   "cell_type": "code",
   "execution_count": null,
   "metadata": {
    "collapsed": true
   },
   "outputs": [],
   "source": [
    "def appendDFToCSV_void(df, csvFilePath, sep ):\n",
    "    if not os.path.isfile(csvFilePath):\n",
    "        df.to_csv(csvFilePath, mode='a', index=False,header=True, sep=sep)\n",
    "    else:\n",
    "        df.to_csv(csvFilePath, mode='a', index=False,header=False, sep=sep)"
   ]
  },
  {
   "cell_type": "code",
   "execution_count": null,
   "metadata": {
    "collapsed": true
   },
   "outputs": [],
   "source": [
    "def fillrecommendedplaylist(dfr,pid):\n",
    "            \n",
    "    dfr=dfr.rename(columns={'trackuri':pid})\n",
    "            #dfr.drop(pid,1)\n",
    "    appendDFToCSV_void(dfr.T,'newchallenge_list.csv',',')"
   ]
  },
  {
   "cell_type": "code",
   "execution_count": null,
   "metadata": {
    "collapsed": true
   },
   "outputs": [],
   "source": []
  },
  {
   "cell_type": "code",
   "execution_count": null,
   "metadata": {
    "collapsed": true
   },
   "outputs": [],
   "source": [
    "trackinfo[trackinfo.trackid.isin(data[data.pid==101084]['trackid'].head(10))]"
   ]
  },
  {
   "cell_type": "code",
   "execution_count": null,
   "metadata": {
    "collapsed": true
   },
   "outputs": [],
   "source": [
    "pd.set_option('display.max_colwidth', -1)\n",
    "data[data.trackid==1647460]['pid']"
   ]
  },
  {
   "cell_type": "code",
   "execution_count": null,
   "metadata": {
    "collapsed": true
   },
   "outputs": [],
   "source": [
    "playlist=pd.read_csv('playlist_name.csv')"
   ]
  },
  {
   "cell_type": "code",
   "execution_count": null,
   "metadata": {
    "collapsed": true
   },
   "outputs": [],
   "source": [
    "da"
   ]
  },
  {
   "cell_type": "code",
   "execution_count": null,
   "metadata": {
    "collapsed": true
   },
   "outputs": [],
   "source": [
    "playlist[playlist.pid.isin(data[data.trackid==1647460]['pid'])   ]"
   ]
  },
  {
   "cell_type": "code",
   "execution_count": null,
   "metadata": {
    "collapsed": true
   },
   "outputs": [],
   "source": []
  },
  {
   "cell_type": "code",
   "execution_count": null,
   "metadata": {
    "collapsed": true
   },
   "outputs": [],
   "source": [
    "datatr['trackid']=le.transform(datatr['track_uri'])"
   ]
  },
  {
   "cell_type": "code",
   "execution_count": null,
   "metadata": {
    "collapsed": true
   },
   "outputs": [],
   "source": [
    "datatr[datatr.trackid==1048440]"
   ]
  },
  {
   "cell_type": "code",
   "execution_count": null,
   "metadata": {
    "collapsed": true
   },
   "outputs": [],
   "source": [
    "train[train.n_id.isin([1108])]"
   ]
  },
  {
   "cell_type": "code",
   "execution_count": null,
   "metadata": {
    "collapsed": true
   },
   "outputs": [],
   "source": [
    "train[train.npid==2857]"
   ]
  },
  {
   "cell_type": "code",
   "execution_count": null,
   "metadata": {
    "collapsed": true
   },
   "outputs": [],
   "source": []
  }
 ],
 "metadata": {
  "kernelspec": {
   "display_name": "Python 2",
   "language": "python",
   "name": "python2"
  },
  "language_info": {
   "codemirror_mode": {
    "name": "ipython",
    "version": 2
   },
   "file_extension": ".py",
   "mimetype": "text/x-python",
   "name": "python",
   "nbconvert_exporter": "python",
   "pygments_lexer": "ipython2",
   "version": "2.7.11"
  }
 },
 "nbformat": 4,
 "nbformat_minor": 2
}
