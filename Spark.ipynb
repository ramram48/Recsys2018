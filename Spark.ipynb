{
 "cells": [
  {
   "cell_type": "code",
   "execution_count": null,
   "metadata": {
    "collapsed": true
   },
   "outputs": [],
   "source": [
    "import sys\n",
    "import numpy as np\n",
    "from numpy.random import rand\n",
    "from numpy import matrix\n",
    "from pyspark.sql import SparkSession\n",
    "from pyspark import SparkContext, SparkConf,SQLContext\n",
    "from pyspark.sql import SparkSession\n",
    "import pandas as pd\n",
    "from pyspark.serializers import MarshalSerializer\n",
    "from sklearn import preprocessing"
   ]
  },
  {
   "cell_type": "code",
   "execution_count": null,
   "metadata": {
    "collapsed": true
   },
   "outputs": [],
   "source": [
    "truris=pd.read_csv('pid_uri_id.csv')"
   ]
  },
  {
   "cell_type": "code",
   "execution_count": null,
   "metadata": {
    "collapsed": true
   },
   "outputs": [],
   "source": [
    "chall_data_except_cold=pd.read_csv('chall_all.csv')"
   ]
  },
  {
   "cell_type": "code",
   "execution_count": null,
   "metadata": {
    "collapsed": true
   },
   "outputs": [],
   "source": [
    "alldata=pd.read_csv('track1_traindata.csv',header=None)"
   ]
  },
  {
   "cell_type": "code",
   "execution_count": null,
   "metadata": {
    "collapsed": true
   },
   "outputs": [],
   "source": [
    "alldata[alldata[0]==1003649]"
   ]
  },
  {
   "cell_type": "code",
   "execution_count": null,
   "metadata": {
    "collapsed": true
   },
   "outputs": [],
   "source": [
    "tracks_in_sparse=le.transform(list(chall_data_except_cold['trackuri']))"
   ]
  },
  {
   "cell_type": "code",
   "execution_count": null,
   "metadata": {
    "collapsed": true
   },
   "outputs": [],
   "source": [
    "chall_data_except_cold['trackid']=tracks_in_sparse"
   ]
  },
  {
   "cell_type": "code",
   "execution_count": null,
   "metadata": {
    "collapsed": true
   },
   "outputs": [],
   "source": [
    "chall_data_except_cold=chall_data_except_cold[['pid','trackid']]"
   ]
  },
  {
   "cell_type": "code",
   "execution_count": null,
   "metadata": {
    "collapsed": true
   },
   "outputs": [],
   "source": [
    "akk=chall_data_except_cold[~chall_data_except_cold.pid.isin(list(trr[0].unique()))]"
   ]
  },
  {
   "cell_type": "code",
   "execution_count": null,
   "metadata": {
    "collapsed": true
   },
   "outputs": [],
   "source": [
    "df2=pd.DataFrame({'count' : chall_data_except_cold.groupby( [\"pid\"] ).size()}).reset_index()"
   ]
  },
  {
   "cell_type": "code",
   "execution_count": null,
   "metadata": {
    "collapsed": true
   },
   "outputs": [],
   "source": [
    "onetrack=list(df2[df2['count']==1]['pid'])"
   ]
  },
  {
   "cell_type": "code",
   "execution_count": null,
   "metadata": {
    "collapsed": true
   },
   "outputs": [],
   "source": [
    "onetrack=chall_data_except_cold[chall_data_except_cold['pid'].isin(onetrack)]"
   ]
  },
  {
   "cell_type": "code",
   "execution_count": null,
   "metadata": {
    "collapsed": false
   },
   "outputs": [],
   "source": [
    "onetrack[onetrack.name=='oldies']"
   ]
  },
  {
   "cell_type": "code",
   "execution_count": null,
   "metadata": {
    "collapsed": false
   },
   "outputs": [],
   "source": [
    "le = preprocessing.LabelEncoder()\n",
    "le.fit(truris['track_uri'].unique())"
   ]
  },
  {
   "cell_type": "code",
   "execution_count": null,
   "metadata": {
    "collapsed": false
   },
   "outputs": [],
   "source": [
    "conf = SparkConf()\n",
    "conf.set('spark.executor.memory', '3g')\n",
    "conf.set('spark.memory.fraction', '0.8')\n",
    "conf.set('spark.driver.memory','12g')\n",
    "conf.setSparkHome('/home/e/spark-2.3.0-bin-hadoop2.7/')\n",
    "#conf.setExecutorEnv('/home/e/spark-2.3.0-bin-hadoop2.7/conf/spark-env.sh')"
   ]
  },
  {
   "cell_type": "code",
   "execution_count": null,
   "metadata": {
    "collapsed": true
   },
   "outputs": [],
   "source": [
    "sc = SparkContext(conf=conf)"
   ]
  },
  {
   "cell_type": "code",
   "execution_count": null,
   "metadata": {
    "collapsed": false
   },
   "outputs": [],
   "source": [
    "sc._conf.getAll()"
   ]
  },
  {
   "cell_type": "code",
   "execution_count": null,
   "metadata": {
    "collapsed": true
   },
   "outputs": [],
   "source": [
    "tracks = sc.textFile(\"traind7.csv\")"
   ]
  },
  {
   "cell_type": "code",
   "execution_count": null,
   "metadata": {
    "collapsed": false
   },
   "outputs": [],
   "source": [
    "tracks.first()"
   ]
  },
  {
   "cell_type": "code",
   "execution_count": null,
   "metadata": {
    "collapsed": true
   },
   "outputs": [],
   "source": [
    "#Need to import three functions / objects from the MLlib\n",
    "from pyspark.mllib.recommendation\\\n",
    "   import ALS,MatrixFactorizationModel, Rating\n"
   ]
  },
  {
   "cell_type": "code",
   "execution_count": null,
   "metadata": {
    "collapsed": true
   },
   "outputs": [],
   "source": [
    "\n",
    "#We'll need to map the movielens data to a Ratings object \n",
    "#A Ratings object is made up of (user, item, rating)\n",
    "tls = tracks.map(lambda l: l.split(','))\n",
    "#tst=test.map(lambda l: l.split(',')) \n",
    "tls = tls.map(lambda x: Rating(int(x[0]),\\\n",
    "   int(x[1]), float(x[2])))\n",
    "#tests = tst.map(lambda x: Rating(int(x[1]),\\\n",
    " #   int(x[2]), float(x[0])))\n"
   ]
  },
  {
   "cell_type": "code",
   "execution_count": null,
   "metadata": {
    "collapsed": true
   },
   "outputs": [],
   "source": [
    "mls=''"
   ]
  },
  {
   "cell_type": "code",
   "execution_count": null,
   "metadata": {
    "collapsed": true
   },
   "outputs": [],
   "source": [
    "sqlContext= SQLContext(sc)\n"
   ]
  },
  {
   "cell_type": "code",
   "execution_count": null,
   "metadata": {
    "collapsed": true
   },
   "outputs": [],
   "source": [
    "ratings = sqlContext.createDataFrame(tls)"
   ]
  },
  {
   "cell_type": "code",
   "execution_count": null,
   "metadata": {
    "collapsed": false
   },
   "outputs": [],
   "source": [
    "ratings.head(20)"
   ]
  },
  {
   "cell_type": "code",
   "execution_count": null,
   "metadata": {
    "collapsed": true
   },
   "outputs": [],
   "source": [
    "#test=sqlContext.createDataFrame(train)\n",
    "(train, test) = tls.randomSplit([0.8, 0.2])"
   ]
  },
  {
   "cell_type": "code",
   "execution_count": null,
   "metadata": {
    "collapsed": false
   },
   "outputs": [],
   "source": [
    "ratings.cache()\n",
    "#test.cache()\n",
    "ratings.repartition(100)\n",
    "\n"
   ]
  },
  {
   "cell_type": "code",
   "execution_count": null,
   "metadata": {
    "collapsed": true
   },
   "outputs": [],
   "source": [
    "#Setting up the parameters for ALS\n",
    "rank = 100# Latent Factors to be made\n",
    "numUserBlocks=30\n",
    "numItemBlocks=30\n",
    "numIterations = 40 # Times to repeat process\n",
    "sc.setCheckpointDir('/home/a/checkpoint/')\n",
    "#Create the model on the training data\n",
    "model = ALS.trainImplicit(ratings, rank, numIterations, 0.01, 15, alpha=0.01, nonnegative=False)\n"
   ]
  },
  {
   "cell_type": "code",
   "execution_count": null,
   "metadata": {
    "collapsed": true
   },
   "outputs": [],
   "source": [
    "pred_input = train.map(lambda x:(x[0],x[1]))   "
   ]
  },
  {
   "cell_type": "code",
   "execution_count": null,
   "metadata": {
    "collapsed": true
   },
   "outputs": [],
   "source": [
    "true_reorg = train.map(lambda x:((x[0],x[1]), x[2]))"
   ]
  },
  {
   "cell_type": "code",
   "execution_count": null,
   "metadata": {
    "collapsed": true
   },
   "outputs": [],
   "source": [
    "pred_reorg = pred.map(lambda x:((x[0],x[1]), x[2]))"
   ]
  },
  {
   "cell_type": "code",
   "execution_count": null,
   "metadata": {
    "collapsed": true
   },
   "outputs": [],
   "source": [
    "true_pred = true_reorg.join(pred_reorg)"
   ]
  },
  {
   "cell_type": "code",
   "execution_count": null,
   "metadata": {
    "collapsed": true
   },
   "outputs": [],
   "source": [
    "#Test Set Evaluation\n",
    "#More dense, but nothing we haven't done before\n",
    "test_input = test.map(lambda x:(x[0],x[1])) \n",
    "pred_test = model.predictAll(test_input)\n",
    "test_reorg = test.map(lambda x:((x[0],x[1]), x[2]))\n",
    "pred_reorg = pred_test.map(lambda x:((x[0],x[1]), x[2]))\n",
    "test_pred = test_reorg.join(pred_reorg)\n",
    "test_MSE = test_pred.map(lambda r: (r[1][0] - r[1][1])**2).mean()\n",
    "test_RMSE = sqrt(test_MSE)#1.0145549956596238"
   ]
  },
  {
   "cell_type": "code",
   "execution_count": null,
   "metadata": {
    "collapsed": false
   },
   "outputs": [],
   "source": [
    "test_MSE"
   ]
  },
  {
   "cell_type": "code",
   "execution_count": null,
   "metadata": {
    "collapsed": true
   },
   "outputs": [],
   "source": [
    "from math import sqrt\n",
    "test_MSE\n",
    "#sqrt(test_MSE)#1.0145549956596238"
   ]
  },
  {
   "cell_type": "code",
   "execution_count": null,
   "metadata": {
    "collapsed": true
   },
   "outputs": [],
   "source": [
    "ratings.head()"
   ]
  },
  {
   "cell_type": "code",
   "execution_count": null,
   "metadata": {
    "collapsed": true
   },
   "outputs": [],
   "source": [
    "UserID = 1000016\n",
    "listened_songs = ratings.filter(ratings.user == UserID) \\\n",
    "                                                  .select('product')                        \n",
    "# generate list of listened songs\n",
    "listened_songs_list = []"
   ]
  },
  {
   "cell_type": "code",
   "execution_count": null,
   "metadata": {
    "collapsed": true
   },
   "outputs": [],
   "source": [
    "for song in listened_songs.collect():\n",
    "    listened_songs_list.append(song['product'])"
   ]
  },
  {
   "cell_type": "code",
   "execution_count": null,
   "metadata": {
    "collapsed": true
   },
   "outputs": [],
   "source": [
    "listened_songs_list\n",
    "le.inverse_transform([1352426])"
   ]
  },
  {
   "cell_type": "code",
   "execution_count": null,
   "metadata": {
    "collapsed": true
   },
   "outputs": [],
   "source": [
    "asd=model.recommendProducts(1000998,500)\n",
    "asd"
   ]
  },
  {
   "cell_type": "code",
   "execution_count": null,
   "metadata": {
    "collapsed": true
   },
   "outputs": [],
   "source": [
    "ask[ask['product']==1352426]"
   ]
  },
  {
   "cell_type": "code",
   "execution_count": null,
   "metadata": {
    "collapsed": true
   },
   "outputs": [],
   "source": [
    "challengedata.head()"
   ]
  },
  {
   "cell_type": "code",
   "execution_count": null,
   "metadata": {
    "collapsed": true
   },
   "outputs": [],
   "source": [
    "listened_songs_list=challengedata['trackuri'][challengedata['pid']==1000000]"
   ]
  },
  {
   "cell_type": "code",
   "execution_count": null,
   "metadata": {
    "collapsed": true
   },
   "outputs": [],
   "source": []
  },
  {
   "cell_type": "code",
   "execution_count": null,
   "metadata": {
    "collapsed": true
   },
   "outputs": [],
   "source": [
    "list(listened_songs_list)"
   ]
  },
  {
   "cell_type": "code",
   "execution_count": null,
   "metadata": {
    "collapsed": true
   },
   "outputs": [],
   "source": [
    "unlistened_songs.first()"
   ]
  },
  {
   "cell_type": "code",
   "execution_count": null,
   "metadata": {
    "collapsed": true
   },
   "outputs": [],
   "source": [
    "predicted_listens = model.transform(unlistened_songs)"
   ]
  },
  {
   "cell_type": "code",
   "execution_count": null,
   "metadata": {
    "collapsed": true
   },
   "outputs": [],
   "source": [
    "ps=unlistened_songs.toPandas()"
   ]
  },
  {
   "cell_type": "code",
   "execution_count": null,
   "metadata": {
    "collapsed": true
   },
   "outputs": [],
   "source": [
    "unlistened_songs=list(ps.movieId)"
   ]
  },
  {
   "cell_type": "code",
   "execution_count": null,
   "metadata": {
    "collapsed": true
   },
   "outputs": [],
   "source": [
    "uris=pd.read_csv('truri_id.csv')"
   ]
  },
  {
   "cell_type": "code",
   "execution_count": null,
   "metadata": {
    "collapsed": true
   },
   "outputs": [],
   "source": [
    "uris=pd.DataFrame()"
   ]
  },
  {
   "cell_type": "code",
   "execution_count": null,
   "metadata": {
    "collapsed": true
   },
   "outputs": [],
   "source": [
    "predicted_listens.movieId"
   ]
  },
  {
   "cell_type": "code",
   "execution_count": null,
   "metadata": {
    "collapsed": true
   },
   "outputs": [],
   "source": [
    "pds=userSubsetRecs.toPandas()"
   ]
  },
  {
   "cell_type": "code",
   "execution_count": null,
   "metadata": {
    "collapsed": true
   },
   "outputs": [],
   "source": [
    "pds.head()"
   ]
  },
  {
   "cell_type": "code",
   "execution_count": null,
   "metadata": {
    "collapsed": true
   },
   "outputs": [],
   "source": [
    "trackdata=pd.read_csv('traind3.csv',header=None)"
   ]
  },
  {
   "cell_type": "code",
   "execution_count": null,
   "metadata": {
    "collapsed": true
   },
   "outputs": [],
   "source": [
    "trackdata[0].nunique()"
   ]
  },
  {
   "cell_type": "code",
   "execution_count": null,
   "metadata": {
    "collapsed": true
   },
   "outputs": [],
   "source": [
    "challengedata=pd.read_csv('chall_all.csv')"
   ]
  },
  {
   "cell_type": "code",
   "execution_count": null,
   "metadata": {
    "collapsed": true
   },
   "outputs": [],
   "source": [
    "challengedata.head()"
   ]
  },
  {
   "cell_type": "code",
   "execution_count": null,
   "metadata": {
    "collapsed": true
   },
   "outputs": [],
   "source": [
    "pids=trackdata[trackdata[0]>999999][0].unique()"
   ]
  },
  {
   "cell_type": "code",
   "execution_count": null,
   "metadata": {
    "collapsed": true
   },
   "outputs": [],
   "source": [
    "asd=model.recommendProducts(1000049,600)"
   ]
  },
  {
   "cell_type": "code",
   "execution_count": null,
   "metadata": {
    "collapsed": true
   },
   "outputs": [],
   "source": [
    "listened_songs_list=chall_data_except_cold['trackid'][chall_data_except_cold['pid']==1000049]"
   ]
  },
  {
   "cell_type": "code",
   "execution_count": null,
   "metadata": {
    "collapsed": true
   },
   "outputs": [],
   "source": [
    "df = sqlContext.createDataFrame(asd, ['user', 'product','rating'])\n",
    "ask=df.toPandas()\n",
    "ask=ask[~ask['product'].isin(listened_songs_list)]"
   ]
  },
  {
   "cell_type": "code",
   "execution_count": null,
   "metadata": {
    "collapsed": true
   },
   "outputs": [],
   "source": [
    "asd=model.recommendProducts(int(1000049),600+2)"
   ]
  },
  {
   "cell_type": "code",
   "execution_count": null,
   "metadata": {
    "collapsed": true
   },
   "outputs": [],
   "source": [
    "df = sqlContext.createDataFrame(asd, ['user', 'product','rating'])\n",
    "ask=df.toPandas()"
   ]
  },
  {
   "cell_type": "code",
   "execution_count": null,
   "metadata": {
    "collapsed": true
   },
   "outputs": [],
   "source": [
    "ask=ask[~ask['product'].isin(listened_songs_list )]"
   ]
  },
  {
   "cell_type": "code",
   "execution_count": null,
   "metadata": {
    "collapsed": true
   },
   "outputs": [],
   "source": [
    "ask"
   ]
  },
  {
   "cell_type": "code",
   "execution_count": null,
   "metadata": {
    "collapsed": true
   },
   "outputs": [],
   "source": [
    "trackids=list(ask['product']) \n",
    "\n"
   ]
  },
  {
   "cell_type": "code",
   "execution_count": null,
   "metadata": {
    "collapsed": true
   },
   "outputs": [],
   "source": [
    "trackuris=le.inverse_transform(trackids)\n"
   ]
  },
  {
   "cell_type": "code",
   "execution_count": null,
   "metadata": {
    "collapsed": true
   },
   "outputs": [],
   "source": [
    "s = pd.Series(data=trackuris,name='trackuri')\n",
    "ask['trackuris']=trackuris"
   ]
  },
  {
   "cell_type": "code",
   "execution_count": null,
   "metadata": {
    "collapsed": true
   },
   "outputs": [],
   "source": [
    "ask=ask[['user','trackuris']]"
   ]
  },
  {
   "cell_type": "code",
   "execution_count": null,
   "metadata": {
    "collapsed": true
   },
   "outputs": [],
   "source": [
    "ask.set_index('user', inplace=True)"
   ]
  },
  {
   "cell_type": "code",
   "execution_count": null,
   "metadata": {
    "collapsed": true
   },
   "outputs": [],
   "source": []
  },
  {
   "cell_type": "code",
   "execution_count": null,
   "metadata": {
    "collapsed": true
   },
   "outputs": [],
   "source": [
    "track_1_new=pd.read_csv('track_1_new.csv')"
   ]
  },
  {
   "cell_type": "code",
   "execution_count": null,
   "metadata": {
    "collapsed": true
   },
   "outputs": [],
   "source": [
    "track_5_new_base_on_last_track=pd.read_csv('track_5_new_base_on_last_track.csv')"
   ]
  },
  {
   "cell_type": "code",
   "execution_count": null,
   "metadata": {
    "collapsed": true
   },
   "outputs": [],
   "source": [
    "summed=track_1_new.append(track_5_new_base_on_last_track)"
   ]
  },
  {
   "cell_type": "code",
   "execution_count": null,
   "metadata": {
    "collapsed": false
   },
   "outputs": [],
   "source": [
    "summed.head()"
   ]
  },
  {
   "cell_type": "code",
   "execution_count": null,
   "metadata": {
    "collapsed": false
   },
   "outputs": [],
   "source": [
    "allready_recommeded_trackids"
   ]
  },
  {
   "cell_type": "code",
   "execution_count": null,
   "metadata": {
    "collapsed": false
   },
   "outputs": [],
   "source": [
    "ids=1002647\n",
    "chall_data_except_cold[chall_data_except_cold.pid==int(ids)].trackid"
   ]
  },
  {
   "cell_type": "code",
   "execution_count": null,
   "metadata": {
    "collapsed": true
   },
   "outputs": [],
   "source": [
    "\n",
    "     "
   ]
  },
  {
   "cell_type": "code",
   "execution_count": null,
   "metadata": {
    "collapsed": false
   },
   "outputs": [],
   "source": [
    "pids=chall_data_except_cold\n",
    "i=0\n",
    "for ids in list(pids.pid.unique()):\n",
    "        ask=pd.DataFrame()\n",
    "        print(ids)\n",
    "        allready_recommeded_trackids=summed[~summed.trackid.isin(chall_data_except_cold[chall_data_except_cold.pid==int(ids)].trackid)]\n",
    "        allready_recommeded_trackids=allready_recommeded_trackids[allready_recommeded_trackids.pid==int(ids)].trackid\n",
    "        if len(allready_recommeded_trackids)>0:\n",
    "                trackuris=le.inverse_transform(allready_recommeded_trackids)\n",
    "                \n",
    "                ask['trackuri']=trackuris\n",
    "                ask['user']=ids\n",
    "               # ask=ask.drop(['product','rating'],1)\n",
    "                ask=ask[['user','trackuri']]\n",
    "                ask.set_index('user', inplace=True)\n",
    "                #print(ask)\n",
    "                fillrecommendedplaylist(ask.head(500),ids)\n",
    "                print(i,'  ',ids)\n",
    "                i=i+1"
   ]
  },
  {
   "cell_type": "code",
   "execution_count": null,
   "metadata": {
    "collapsed": true
   },
   "outputs": [],
   "source": [
    "le.transform(['spotify:track:2ypT0w7jeCwcEQQvNE5o92'])"
   ]
  },
  {
   "cell_type": "code",
   "execution_count": null,
   "metadata": {
    "collapsed": true
   },
   "outputs": [],
   "source": [
    "uris.head()"
   ]
  },
  {
   "cell_type": "code",
   "execution_count": null,
   "metadata": {
    "collapsed": true
   },
   "outputs": [],
   "source": [
    "all_song_uris=list(challengedata['trackuri'])"
   ]
  },
  {
   "cell_type": "code",
   "execution_count": null,
   "metadata": {
    "collapsed": true
   },
   "outputs": [],
   "source": [
    "all_song_ids=le.transform(all_sfongs_uris)"
   ]
  },
  {
   "cell_type": "code",
   "execution_count": null,
   "metadata": {
    "collapsed": true
   },
   "outputs": [],
   "source": [
    "model.recommendProducts(1000002,5)"
   ]
  },
  {
   "cell_type": "code",
   "execution_count": null,
   "metadata": {
    "collapsed": false
   },
   "outputs": [],
   "source": [
    "le.inverse_transform(2216422)"
   ]
  },
  {
   "cell_type": "code",
   "execution_count": null,
   "metadata": {
    "collapsed": true
   },
   "outputs": [],
   "source": [
    "import warnings\n",
    "warnings.filterwarnings(action='ignore', category=DeprecationWarning)\n"
   ]
  },
  {
   "cell_type": "code",
   "execution_count": null,
   "metadata": {
    "collapsed": true
   },
   "outputs": [],
   "source": [
    "i=0\n",
    "coldstart=pd.read_csv('coldstart.csv')\n",
    "coldstartpids=list(coldstart['pid'])\n",
    "coldstartpids=[]\n",
    "\n",
    "pids=list(onetrack['pid'].unique())\n",
    "for ids in coldstartpids:\n",
    "        #print(len(listened_songs_list))\n",
    "        asd=model.recommendProducts(int(ids),500)\n",
    "        df = sqlContext.createDataFrame(asd, ['user', 'product','rating'])\n",
    "        ask=df.toPandas()\n",
    "        #print(trackids)\n",
    "        trackids=list(ask['product'])\n",
    "        #ask=df.toPandas() \n",
    "        if len(trackids)>0:\n",
    "            trackuris=le.inverse_transform(trackids)\n",
    "            s = pd.Series(data=trackuris,name='trackuri')\n",
    "            ask=pd.concat([ask,s],axis=1)\n",
    "            ask=ask.drop(['product','rating'],1)\n",
    "            ask.set_index('user', inplace=True)\n",
    "            fillrecommendedplaylist(ask,ids)\n",
    "            print(i,'  ',ids)\n",
    "            i=i+1\n",
    "        \n",
    "        listened_songs_list=chall_data_except_cold['trackid'][chall_data_except_cold['pid']==ids]\n",
    "        asd=model.recommendProducts(int(ids),600)\n",
    "        df = sqlContext.createDataFrame(asd, ['user', 'product','rating'])\n",
    "        ask=df.toPandas()\n",
    "        ask=ask[~ask['product'].isin(listened_songs_list)]\n",
    "        if len(ask['product'])==600:\n",
    "            print(len(listened_songs_list))\n",
    "            difference= 600-len(ask['product'])\n",
    "            asd=model.recommendProducts(int(ids),600+difference)\n",
    "            df = sqlContext.createDataFrame(asd, ['user', 'product','rating'])\n",
    "            ask=df.toPandas()\n",
    "            ask=ask[~ask['product'].isin(listened_songs_list )]\n",
    "            trackids=list(ask['product']) \n",
    "            #print(len(trackids))\n",
    "            if len(trackids)>0:\n",
    "                trackuris=le.inverse_transform(trackids)\n",
    "                trackuris=le.inverse_transform(trackids)\n",
    "                ask['trackuri']=trackuris\n",
    "               # ask=ask.drop(['product','rating'],1)\n",
    "                ask=ask[['user','trackuri']]\n",
    "                ask.set_index('user', inplace=True)\n",
    "                #print(ask)\n",
    "                fillrecommendedplaylist(ask.head(500),ids)\n",
    "                print(i,'  ',ids)\n",
    "                i=i+1\n",
    "        \n",
    "        else:\n",
    "            print(len(listened_songs_list))\n",
    "            difference= 600-len(ask['product'])\n",
    "            asd=model.recommendProducts(int(ids),600+difference)\n",
    "            df = sqlContext.createDataFrame(asd, ['user', 'product','rating'])\n",
    "            ask=df.toPandas()\n",
    "            ask=ask[~ask['product'].isin(listened_songs_list )]\n",
    "            trackids=list(ask['product']) \n",
    "            #print(len(trackids))\n",
    "            if len(trackids)>0:\n",
    "                trackuris=le.inverse_transform(trackids)\n",
    "                ask['trackuri']=trackuris\n",
    "               # ask=ask.drop(['product','rating'],1)\n",
    "                ask=ask[['user','trackuri']]\n",
    "                ask.set_index('user', inplace=True)\n",
    "                #print(ask)\n",
    "                fillrecommendedplaylist(ask.head(500),ids)\n",
    "                print(i,'  ',ids)\n",
    "                i=i+1"
   ]
  },
  {
   "cell_type": "code",
   "execution_count": null,
   "metadata": {
    "collapsed": true
   },
   "outputs": [],
   "source": [
    "\n",
    "coldstart=pd.read_csv('coldstart.csv')\n",
    "coldstartpids=list(coldstart['pid'])\n",
    "coldstartpids=[]\n",
    "\n",
    "pids=list(chall_data_except_cold['pid'].unique())"
   ]
  },
  {
   "cell_type": "code",
   "execution_count": null,
   "metadata": {
    "collapsed": false
   },
   "outputs": [],
   "source": [
    "i=0\n",
    "coldstart=pd.read_csv('coldstart.csv')\n",
    "coldstartpids=list(coldstart['pid'])\n",
    "#coldstartpids=[]\n",
    "\n",
    "pids=list(chall_data_except_cold['pid'].unique())\n",
    "pids=[]\n",
    "for ids in coldstartpids:\n",
    "        #print(len(listened_songs_list))\n",
    "        asd=model.recommendProducts(int(ids),500)\n",
    "        df = sqlContext.createDataFrame(asd, ['user', 'product','rating'])\n",
    "        ask=df.toPandas()\n",
    "        #print(trackids)\n",
    "        trackids=list(ask['product'])\n",
    "        #ask=df.toPandas() \n",
    "        if len(trackids)>0:\n",
    "            trackuris=le.inverse_transform(trackids)\n",
    "            s = pd.Series(data=trackuris,name='trackuri')\n",
    "            ask=pd.concat([ask,s],axis=1)\n",
    "            ask=ask.drop(['product','rating'],1)\n",
    "            ask.set_index('user', inplace=True)\n",
    "            fillrecommendedplaylist(ask,ids)\n",
    "            i=i+1\n",
    "    \n",
    "for ids in pids:\n",
    "        listened_songs_list=chall_data_except_cold['trackid'][chall_data_except_cold['pid']==ids]\n",
    "        asd=model.recommendProducts(int(ids),600)\n",
    "        df = sqlContext.createDataFrame(asd, ['user', 'product','rating'])\n",
    "        ask=df.toPandas()\n",
    "        ask=ask[~ask['product'].isin(listened_songs_list)]\n",
    "        if len(ask['product'])==600:\n",
    "            print(len(listened_songs_list))\n",
    "            difference= 600-len(ask['product'])\n",
    "            asd=model.recommendProducts(int(ids),600+difference)\n",
    "            df = sqlContext.createDataFrame(asd, ['user', 'product','rating'])\n",
    "            ask=df.toPandas()\n",
    "            ask=ask[~ask['product'].isin(listened_songs_list )]\n",
    "            trackids=list(ask['product']) \n",
    "            #print(len(trackids))\n",
    "            if len(trackids)>0:\n",
    "                trackuris=le.inverse_transform(trackids)\n",
    "                ask['trackuri']=trackuris\n",
    "               # ask=ask.drop(['product','rating'],1)\n",
    "                ask=ask[['user','trackuri']]\n",
    "                ask.set_index('user', inplace=True)\n",
    "                #print(ask)\n",
    "                fillrecommendedplaylist(ask.head(500),ids)\n",
    "                print(i,'  ',ids)\n",
    "                i=i+1\n",
    "        \n",
    "        else:\n",
    "            print(len(listened_songs_list))\n",
    "            difference= 600-len(ask['product'])\n",
    "            asd=model.recommendProducts(int(ids),600+difference)\n",
    "            df = sqlContext.createDataFrame(asd, ['user', 'product','rating'])\n",
    "            ask=df.toPandas()\n",
    "            ask=ask[~ask['product'].isin(listened_songs_list )]\n",
    "            trackids=list(ask['product']) \n",
    "            #print(len(trackids))\n",
    "            if len(trackids)>0:\n",
    "                trackuris=le.inverse_transform(trackids)\n",
    "                ask['trackuri']=trackuris\n",
    "               # ask=ask.drop(['product','rating'],1)\n",
    "                ask=ask[['user','trackuri']]\n",
    "                ask.set_index('user', inplace=True)\n",
    "                #print(ask)\n",
    "                fillrecommendedplaylist(ask.head(500),ids)\n",
    "                print(i,'  ',ids)\n",
    "                i=i+1"
   ]
  },
  {
   "cell_type": "code",
   "execution_count": null,
   "metadata": {
    "collapsed": true
   },
   "outputs": [],
   "source": [
    "def appendDFToCSV_void(df, csvFilePath, sep ):\n",
    "    import os\n",
    "    #if not os.path.isfile(csvFilePath):\n",
    "    df.to_csv(csvFilePath, mode='a', header=False,index=True, sep=sep)"
   ]
  },
  {
   "cell_type": "code",
   "execution_count": null,
   "metadata": {
    "collapsed": true
   },
   "outputs": [],
   "source": [
    "def fillrecommendedplaylist(dfr,pid):\n",
    "            \n",
    "    dfr=dfr.rename(columns={'trackuri':pid})\n",
    "            #dfr.drop(pid,1)\n",
    "    appendDFToCSV_void(dfr.T,'lastchallenge_list.csv',',')"
   ]
  },
  {
   "cell_type": "code",
   "execution_count": null,
   "metadata": {
    "collapsed": true
   },
   "outputs": [],
   "source": [
    "ask.head()"
   ]
  },
  {
   "cell_type": "code",
   "execution_count": null,
   "metadata": {
    "collapsed": true
   },
   "outputs": [],
   "source": [
    "# For Product X, Find N Users to Sell To\n",
    "#model.recommendUsers(242,100)\n",
    "model.recommendProductsForUsers(1)\n"
   ]
  },
  {
   "cell_type": "code",
   "execution_count": null,
   "metadata": {
    "collapsed": true
   },
   "outputs": [],
   "source": [
    "trackdata[trackdata[3]=='spotify:track:2KpCpk6HjXXLb7nnXoXA5O'].head()"
   ]
  },
  {
   "cell_type": "code",
   "execution_count": null,
   "metadata": {
    "collapsed": true
   },
   "outputs": [],
   "source": [
    "trackids=list(ask['product']) "
   ]
  },
  {
   "cell_type": "code",
   "execution_count": null,
   "metadata": {
    "collapsed": true
   },
   "outputs": [],
   "source": [
    "for id in trackids"
   ]
  },
  {
   "cell_type": "code",
   "execution_count": null,
   "metadata": {
    "collapsed": true
   },
   "outputs": [],
   "source": []
  },
  {
   "cell_type": "code",
   "execution_count": null,
   "metadata": {
    "collapsed": true
   },
   "outputs": [],
   "source": [
    "trackuris=le.inverse_transform(trackids)"
   ]
  },
  {
   "cell_type": "code",
   "execution_count": null,
   "metadata": {
    "collapsed": true
   },
   "outputs": [],
   "source": [
    "s = pd.Series(data=trackuris,name='trackuri')"
   ]
  },
  {
   "cell_type": "code",
   "execution_count": null,
   "metadata": {
    "collapsed": true
   },
   "outputs": [],
   "source": [
    "ask=pd.concat([ask,s],axis=1)"
   ]
  },
  {
   "cell_type": "code",
   "execution_count": null,
   "metadata": {
    "collapsed": true
   },
   "outputs": [],
   "source": []
  },
  {
   "cell_type": "code",
   "execution_count": null,
   "metadata": {
    "collapsed": false
   },
   "outputs": [],
   "source": [
    "from math import sqrt\n",
    "#Get Performance Estimate\n",
    "#Organize the data to make (user, product) the key)\n",
    "pred = model.predictAll(pred_input) \n",
    "true_reorg = train.map(lambda x:((x[0],x[1]), x[2]))\n",
    "pred_reorg = pred.map(lambda x:((x[0],x[1]), x[2]))\n",
    "\n",
    "#Do the actual join\n",
    "true_pred = true_reorg.join(pred_reorg)\n",
    "MSE = true_pred.map(lambda r: (r[1][0] - r[1][1])**2).mean()\n",
    "RMSE = sqrt(MSE)#Results in 0.7629908117414474"
   ]
  },
  {
   "cell_type": "code",
   "execution_count": null,
   "metadata": {
    "collapsed": false
   },
   "outputs": [],
   "source": [
    "pred_input = training.map(lambda x:(x[0],x[1]))   \n",
    "\n",
    "# Lots of Predictions\n",
    "#Returns Ratings(user, item, prediction)\n",
    "pred = model.predictAll(pred_input) \n",
    "\n",
    "#Get Performance Estimate\n",
    "#Organize the data to make (user, product) the key)\n",
    "true_reorg = training.map(lambda x:((x[0],x[1]), x[2]))\n",
    "pred_reorg = pred.map(lambda x:((x[0],x[1]), x[2]))\n",
    "\n",
    "#Do the actual join\n",
    "true_pred = true_reorg.join(pred_reorg)\n",
    "\n",
    "#Need to be able to square root the Mean-Squared Error\n",
    "from math import sqrt\n",
    "\n",
    "MSE = true_pred.map(lambda r: (r[1][0] - r[1][1])**2).mean()\n",
    "RMSE = sqrt(MSE)#Results in 0.7629908117414474"
   ]
  },
  {
   "cell_type": "code",
   "execution_count": null,
   "metadata": {
    "collapsed": true
   },
   "outputs": [],
   "source": [
    "model.save(sc,'/home/e/')"
   ]
  },
  {
   "cell_type": "code",
   "execution_count": null,
   "metadata": {
    "collapsed": false
   },
   "outputs": [],
   "source": [
    "\n",
    "#Test Set Evaluation\n",
    "#More dense, but nothing we haven't done before\n",
    "test_input = tests.map(lambda x:(x[0],x[1])) \n",
    "pred_test = model.predictAll(test_input)\n",
    "test_reorg = tests.map(lambda x:((x[0],x[1]), x[2]))\n",
    "pred_reorg = pred_test.map(lambda x:((x[0],x[1]), x[2]))\n",
    "test_pred = test_reorg.join(pred_reorg)\n",
    "test_MSE = test_pred.map(lambda r: (r[1][0] - r[1][1])**2).mean()\n",
    "test_RMSE = sqrt(test_MSE)#1.0145549956596238\n",
    "\n",
    "#If you're happy, save your model!\n",
    "#model.save(sc,\"../out/ml-model\")"
   ]
  },
  {
   "cell_type": "code",
   "execution_count": null,
   "metadata": {
    "collapsed": true
   },
   "outputs": [],
   "source": [
    "test_input.first()"
   ]
  },
  {
   "cell_type": "code",
   "execution_count": null,
   "metadata": {
    "collapsed": true
   },
   "outputs": [],
   "source": [
    "pred_test.first()"
   ]
  },
  {
   "cell_type": "code",
   "execution_count": null,
   "metadata": {
    "collapsed": true
   },
   "outputs": [],
   "source": [
    "track_subset = ratings.where(ratings.product == 36)"
   ]
  },
  {
   "cell_type": "code",
   "execution_count": null,
   "metadata": {
    "collapsed": false
   },
   "outputs": [],
   "source": [
    "track_subset_recs = model."
   ]
  },
  {
   "cell_type": "code",
   "execution_count": null,
   "metadata": {
    "collapsed": false
   },
   "outputs": [],
   "source": [
    "track_subset_recs"
   ]
  },
  {
   "cell_type": "code",
   "execution_count": null,
   "metadata": {
    "collapsed": true
   },
   "outputs": [],
   "source": [
    "\n",
    "#Examine the latent features for one user\n",
    "model.userFeatures().first()\n",
    "#(12, array('d', [1.1348751783370972, 2.397622585296631,\n",
    "    #-0.9957215785980225, 1.062819480895996, 0.4373367130756378]))"
   ]
  }
 ],
 "metadata": {
  "kernelspec": {
   "display_name": "Python 2",
   "language": "python",
   "name": "python2"
  },
  "language_info": {
   "codemirror_mode": {
    "name": "ipython",
    "version": 2
   },
   "file_extension": ".py",
   "mimetype": "text/x-python",
   "name": "python",
   "nbconvert_exporter": "python",
   "pygments_lexer": "ipython2",
   "version": "2.7.11"
  }
 },
 "nbformat": 4,
 "nbformat_minor": 2
}
