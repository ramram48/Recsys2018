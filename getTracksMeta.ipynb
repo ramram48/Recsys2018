{
 "cells": [
  {
   "cell_type": "code",
   "execution_count": null,
   "metadata": {
    "collapsed": true
   },
   "outputs": [],
   "source": [
    "import sys\n",
    "import json\n",
    "import re\n",
    "import collections\n",
    "import os\n",
    "import datetime"
   ]
  },
  {
   "cell_type": "code",
   "execution_count": null,
   "metadata": {
    "collapsed": true
   },
   "outputs": [],
   "source": [
    "import pandas as pd"
   ]
  },
  {
   "cell_type": "code",
   "execution_count": null,
   "metadata": {
    "collapsed": true
   },
   "outputs": [],
   "source": [
    "def process_mpd(path):\n",
    "    count = 0\n",
    "    filenames = os.listdir(path)\n",
    "    filenames=sorted(filenames)\n",
    "    for filename in filenames[0:200]:\n",
    "        if filename.startswith(\"mpd.slice.\") and filename.endswith(\".json\"):\n",
    "            fullpath = os.sep.join((path, filename))\n",
    "            f = open(fullpath)\n",
    "            js = f.read()\n",
    "            f.close()\n",
    "            slice = json.loads(js)\n",
    "           # process_info(slice['info'])\n",
    "            for playlist in slice['playlists']:\n",
    "                process_playlist(playlist)    \n",
    "            print(count)\n",
    "            count+= 1"
   ]
  },
  {
   "cell_type": "code",
   "execution_count": null,
   "metadata": {
    "collapsed": true
   },
   "outputs": [],
   "source": [
    "\n"
   ]
  },
  {
   "cell_type": "code",
   "execution_count": null,
   "metadata": {
    "collapsed": true
   },
   "outputs": [],
   "source": [
    "def process_playlist(playlist):\n",
    "    s=pd.DataFrame()\n",
    "    z=pd.DataFrame()\n",
    "    f=pd.DataFrame()\n",
    "    #artist=[]\n",
    "    for track in playlist['tracks']:\n",
    "        c=pd.DataFrame(index=range(1))\n",
    "        c['pid']=playlist['pid']\n",
    "        c['artist_uri']=track['artist_uri']\n",
    "        c['album_uri']= track['album_uri']\n",
    "        c['track_uri']=track['track_uri']\n",
    "        #c['album_name']= normalize_name(track['album_name'])\n",
    "        f=f.append(c)\n",
    "    appendDFToCSV_void(f,'main_track_info.csv',',')\n",
    "    #appendDFToCSV_void(f,'main_album_info.csv',',')\n",
    "    #appendDFToCSV_void(s,'main_artist_info.csv',',')"
   ]
  },
  {
   "cell_type": "code",
   "execution_count": null,
   "metadata": {
    "collapsed": true
   },
   "outputs": [],
   "source": [
    "def normalize_name(name):\n",
    "    name = name.lower()\n",
    "    name = re.sub(r\"[.,\\/#!$%\\^\\*;:{}=\\_`~()@]\", ' ', name)\n",
    "    name = re.sub(r'\\s+', ' ', name).strip()\n",
    "    return name"
   ]
  },
  {
   "cell_type": "code",
   "execution_count": null,
   "metadata": {
    "collapsed": true
   },
   "outputs": [],
   "source": [
    "def appendDFToCSV_void(df, csvFilePath, sep ):\n",
    "    if not os.path.isfile(csvFilePath):\n",
    "        df.to_csv(csvFilePath, mode='a', index=True,header=True, sep=sep)\n",
    "    else:\n",
    "        df.to_csv(csvFilePath, mode='a', index=True,header=False, sep=sep)"
   ]
  },
  {
   "cell_type": "code",
   "execution_count": null,
   "metadata": {
    "collapsed": false
   },
   "outputs": [],
   "source": [
    "process_mpd('data/')"
   ]
  },
  {
   "cell_type": "code",
   "execution_count": null,
   "metadata": {
    "collapsed": true
   },
   "outputs": [],
   "source": []
  }
 ],
 "metadata": {
  "kernelspec": {
   "display_name": "Python 2",
   "language": "python",
   "name": "python2"
  },
  "language_info": {
   "codemirror_mode": {
    "name": "ipython",
    "version": 2
   },
   "file_extension": ".py",
   "mimetype": "text/x-python",
   "name": "python",
   "nbconvert_exporter": "python",
   "pygments_lexer": "ipython2",
   "version": "2.7.11"
  }
 },
 "nbformat": 4,
 "nbformat_minor": 2
}
