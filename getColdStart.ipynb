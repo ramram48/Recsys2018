{
 "cells": [
  {
   "cell_type": "code",
   "execution_count": null,
   "metadata": {
    "collapsed": true
   },
   "outputs": [],
   "source": [
    "import sys\n",
    "import json\n",
    "import re\n",
    "import collections\n",
    "import os\n",
    "import datetime\n",
    "import pandas as pd"
   ]
  },
  {
   "cell_type": "code",
   "execution_count": null,
   "metadata": {
    "collapsed": false
   },
   "outputs": [],
   "source": [
    "#def process_mpd(path):\n",
    " #   count = 0\n",
    "  #  filenames = os.listdir(path)\n",
    "   # for filename in sorted(filenames):\n",
    "filename='challenge_set.json'\n",
    "if filename.startswith(\"challenge_set.\") and filename.endswith(\".json\"):\n",
    "           # fullpath = os.sep.join((path, filename))\n",
    "            f = open(filename)\n",
    "            js = f.read()\n",
    "            f.close()\n",
    "            slice = json.loads(js)\n",
    "           # process_info(slice['info'])\n",
    "            for playlist in slice['playlists']:\n",
    "                process_playlistcoldstart(playlist)\n",
    "                process_all_list(playlist)\n",
    "                process_playlistsparse(playlist)\n",
    "           # count += 1\n"
   ]
  },
  {
   "cell_type": "code",
   "execution_count": null,
   "metadata": {
    "collapsed": true
   },
   "outputs": [],
   "source": [
    "def process_all_list(playlist):\n",
    "    f=pd.DataFrame(index=range(1))\n",
    "    lista=playlist['tracks']\n",
    "    for tracks in playlist['tracks']:\n",
    "        f['pid']=playlist['pid']\n",
    "        f['trackuri']=tracks['track_uri']\n",
    "        f['artisturi']=tracks['artist_uri']\n",
    "        if 'name' in playlist:      \n",
    "            f['name']=normalize_name(playlist['name'])\n",
    "        else:\n",
    "            f['name']=''\n",
    "        appendDFToCSV_void(f,'chall_all.csv',',')"
   ]
  },
  {
   "cell_type": "code",
   "execution_count": null,
   "metadata": {
    "collapsed": true
   },
   "outputs": [],
   "source": [
    "def process_playlistcoldstart(playlist):\n",
    "    f=pd.DataFrame(index=range(1))\n",
    "    lista=playlist['tracks']\n",
    "    if len(lista)<1:\n",
    "        f['pid']=playlist['pid']\n",
    "        f['name']=normalize_name(playlist['name'])\n",
    "        appendDFToCSV_void(f,'coldstart.csv',',')"
   ]
  },
  {
   "cell_type": "code",
   "execution_count": null,
   "metadata": {
    "collapsed": true
   },
   "outputs": [],
   "source": [
    "def process_playlistsparse(playlist):\n",
    "    f=pd.DataFrame(index=range(1))\n",
    "    lista=playlist['tracks']\n",
    "   \n",
    "    if len(lista)<10 and len(lista)>0:\n",
    "        f['pid']=playlist['pid']\n",
    "        if 'name' in playlist:      \n",
    "            f['name']=normalize_name(playlist['name'])\n",
    "        else:\n",
    "            f['name']=''\n",
    "        appendDFToCSV_void(f,'coldstart10.csv',',')"
   ]
  },
  {
   "cell_type": "code",
   "execution_count": null,
   "metadata": {
    "collapsed": true
   },
   "outputs": [],
   "source": [
    "def normalize_name(name):\n",
    "    name = name.lower()\n",
    "    name = re.sub(r\"[.,\\/#!$%\\^\\*;:{}=\\_`~()@]\", ' ', name)\n",
    "    name = re.sub(r'\\s+', ' ', name).strip()\n",
    "    return name"
   ]
  },
  {
   "cell_type": "code",
   "execution_count": null,
   "metadata": {
    "collapsed": true
   },
   "outputs": [],
   "source": [
    "def appendDFToCSV_void(df, csvFilePath, sep ):\n",
    "    if not os.path.isfile(csvFilePath):\n",
    "        df.to_csv(csvFilePath, mode='a', index=False,header=True, sep=sep)\n",
    "    else:\n",
    "        df.to_csv(csvFilePath, mode='a', index=False,header=False, sep=sep)"
   ]
  },
  {
   "cell_type": "code",
   "execution_count": null,
   "metadata": {
    "collapsed": true
   },
   "outputs": [],
   "source": []
  }
 ],
 "metadata": {
  "kernelspec": {
   "display_name": "Python 2",
   "language": "python",
   "name": "python2"
  },
  "language_info": {
   "codemirror_mode": {
    "name": "ipython",
    "version": 2
   },
   "file_extension": ".py",
   "mimetype": "text/x-python",
   "name": "python",
   "nbconvert_exporter": "python",
   "pygments_lexer": "ipython2",
   "version": "2.7.11"
  }
 },
 "nbformat": 4,
 "nbformat_minor": 2
}
